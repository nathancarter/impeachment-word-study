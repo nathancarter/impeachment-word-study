{
 "cells": [
  {
   "cell_type": "markdown",
   "metadata": {
    "tags": []
   },
   "source": [
    "# Mining the impeachment transcripts"
   ]
  },
  {
   "cell_type": "code",
   "execution_count": 1,
   "metadata": {},
   "outputs": [],
   "source": [
    "import pandas as pd\n",
    "import numpy as np"
   ]
  },
  {
   "cell_type": "markdown",
   "metadata": {
    "tags": []
   },
   "source": [
    "## Load data\n",
    "\n",
    "The files are named by date, `2019-11-13.xlsx` and upwards, as shown in the list below.\n",
    "\n",
    "We load them and combine them into a single DataFrame."
   ]
  },
  {
   "cell_type": "code",
   "execution_count": 2,
   "metadata": {
    "tags": []
   },
   "outputs": [
    {
     "name": "stdout",
     "output_type": "stream",
     "text": [
      "<class 'pandas.core.frame.DataFrame'>\n",
      "RangeIndex: 2990 entries, 0 to 2989\n",
      "Data columns (total 4 columns):\n",
      " #   Column   Non-Null Count  Dtype         \n",
      "---  ------   --------------  -----         \n",
      " 0   Date     2990 non-null   datetime64[ns]\n",
      " 1   Time     2989 non-null   object        \n",
      " 2   Speaker  2990 non-null   object        \n",
      " 3   Text     2983 non-null   object        \n",
      "dtypes: datetime64[ns](1), object(3)\n",
      "memory usage: 93.6+ KB\n"
     ]
    }
   ],
   "source": [
    "dates = [ '2019-11-13', '2019-11-14', '2019-11-15', '2019-11-18', '2019-11-19', '2019-11-20', '2019-11-21' ]\n",
    "speech = pd.DataFrame()\n",
    "for date in dates:\n",
    "    tmp = pd.read_excel( date+'.xlsx', sheet_name=0 )\n",
    "    tmp['Date'] = pd.to_datetime( date )\n",
    "    speech = speech.append( tmp, ignore_index=True )\n",
    "speech = speech[['Date','Time','Speaker','Text']]\n",
    "speech.info()"
   ]
  },
  {
   "cell_type": "markdown",
   "metadata": {
    "tags": []
   },
   "source": [
    "(Due to a current limitation in DeepNote, we must wrap `speech.head()` in a `print` statement.)"
   ]
  },
  {
   "cell_type": "code",
   "execution_count": 3,
   "metadata": {
    "tags": []
   },
   "outputs": [
    {
     "data": {
      "text/html": [
       "<div>\n",
       "<style scoped>\n",
       "    .dataframe tbody tr th:only-of-type {\n",
       "        vertical-align: middle;\n",
       "    }\n",
       "\n",
       "    .dataframe tbody tr th {\n",
       "        vertical-align: top;\n",
       "    }\n",
       "\n",
       "    .dataframe thead th {\n",
       "        text-align: right;\n",
       "    }\n",
       "</style>\n",
       "<table border=\"1\" class=\"dataframe\">\n",
       "  <thead>\n",
       "    <tr style=\"text-align: right;\">\n",
       "      <th></th>\n",
       "      <th>Date</th>\n",
       "      <th>Time</th>\n",
       "      <th>Speaker</th>\n",
       "      <th>Text</th>\n",
       "    </tr>\n",
       "  </thead>\n",
       "  <tbody>\n",
       "    <tr>\n",
       "      <th>0</th>\n",
       "      <td>2019-11-13</td>\n",
       "      <td>10:00:00</td>\n",
       "      <td>The Speaker Pro Tempore</td>\n",
       "      <td>THE HOUSE WILL BE IN ORDER. THE CHAIR LAYS BEF...</td>\n",
       "    </tr>\n",
       "    <tr>\n",
       "      <th>1</th>\n",
       "      <td>2019-11-13</td>\n",
       "      <td>10:00:08</td>\n",
       "      <td>The Clerk</td>\n",
       "      <td>THE SPEAKER'S ROOMS, WASHINGTON, D.C. NOVEMBER...</td>\n",
       "    </tr>\n",
       "    <tr>\n",
       "      <th>2</th>\n",
       "      <td>2019-11-13</td>\n",
       "      <td>10:00:24</td>\n",
       "      <td>The Speaker Pro Tempore</td>\n",
       "      <td>PURSUANT TO THE ORDER OF THE HOUSE OF JANUARY ...</td>\n",
       "    </tr>\n",
       "    <tr>\n",
       "      <th>3</th>\n",
       "      <td>2019-11-13</td>\n",
       "      <td>10:01:07</td>\n",
       "      <td>Mr. Green</td>\n",
       "      <td>THANK YOU, MR. SPEAKER. MR. SPEAKER, IT AND ST...</td>\n",
       "    </tr>\n",
       "    <tr>\n",
       "      <th>4</th>\n",
       "      <td>2019-11-13</td>\n",
       "      <td>10:04:09</td>\n",
       "      <td>The Speaker Pro Tempore</td>\n",
       "      <td>MEMBERS ARE REMINDED TO REFRAIN FROM ENGAGING ...</td>\n",
       "    </tr>\n",
       "  </tbody>\n",
       "</table>\n",
       "</div>"
      ],
      "text/plain": [
       "        Date      Time                  Speaker  \\\n",
       "0 2019-11-13  10:00:00  The Speaker Pro Tempore   \n",
       "1 2019-11-13  10:00:08                The Clerk   \n",
       "2 2019-11-13  10:00:24  The Speaker Pro Tempore   \n",
       "3 2019-11-13  10:01:07                Mr. Green   \n",
       "4 2019-11-13  10:04:09  The Speaker Pro Tempore   \n",
       "\n",
       "                                                Text  \n",
       "0  THE HOUSE WILL BE IN ORDER. THE CHAIR LAYS BEF...  \n",
       "1  THE SPEAKER'S ROOMS, WASHINGTON, D.C. NOVEMBER...  \n",
       "2  PURSUANT TO THE ORDER OF THE HOUSE OF JANUARY ...  \n",
       "3  THANK YOU, MR. SPEAKER. MR. SPEAKER, IT AND ST...  \n",
       "4  MEMBERS ARE REMINDED TO REFRAIN FROM ENGAGING ...  "
      ]
     },
     "execution_count": 3,
     "metadata": {},
     "output_type": "execute_result"
    }
   ],
   "source": [
    "speech.head()"
   ]
  },
  {
   "cell_type": "markdown",
   "metadata": {
    "tags": []
   },
   "source": [
    "## Last Names\n",
    "\n",
    "We compute last names by extracting them from the speaker's name, and discarding words known to not be a last name.\n",
    "\n",
    "TO DO: There are definitely some other cleanup steps that ought to be done, as you can see further below, but this is a good start."
   ]
  },
  {
   "cell_type": "code",
   "execution_count": 4,
   "metadata": {
    "tags": []
   },
   "outputs": [
    {
     "data": {
      "text/html": [
       "<div>\n",
       "<style scoped>\n",
       "    .dataframe tbody tr th:only-of-type {\n",
       "        vertical-align: middle;\n",
       "    }\n",
       "\n",
       "    .dataframe tbody tr th {\n",
       "        vertical-align: top;\n",
       "    }\n",
       "\n",
       "    .dataframe thead th {\n",
       "        text-align: right;\n",
       "    }\n",
       "</style>\n",
       "<table border=\"1\" class=\"dataframe\">\n",
       "  <thead>\n",
       "    <tr style=\"text-align: right;\">\n",
       "      <th></th>\n",
       "      <th>Date</th>\n",
       "      <th>Time</th>\n",
       "      <th>Speaker</th>\n",
       "      <th>Text</th>\n",
       "      <th>Last Name</th>\n",
       "    </tr>\n",
       "  </thead>\n",
       "  <tbody>\n",
       "    <tr>\n",
       "      <th>0</th>\n",
       "      <td>2019-11-13</td>\n",
       "      <td>10:00:00</td>\n",
       "      <td>The Speaker Pro Tempore</td>\n",
       "      <td>THE HOUSE WILL BE IN ORDER. THE CHAIR LAYS BEF...</td>\n",
       "      <td>NaN</td>\n",
       "    </tr>\n",
       "    <tr>\n",
       "      <th>1</th>\n",
       "      <td>2019-11-13</td>\n",
       "      <td>10:00:08</td>\n",
       "      <td>The Clerk</td>\n",
       "      <td>THE SPEAKER'S ROOMS, WASHINGTON, D.C. NOVEMBER...</td>\n",
       "      <td>NaN</td>\n",
       "    </tr>\n",
       "    <tr>\n",
       "      <th>2</th>\n",
       "      <td>2019-11-13</td>\n",
       "      <td>10:00:24</td>\n",
       "      <td>The Speaker Pro Tempore</td>\n",
       "      <td>PURSUANT TO THE ORDER OF THE HOUSE OF JANUARY ...</td>\n",
       "      <td>NaN</td>\n",
       "    </tr>\n",
       "    <tr>\n",
       "      <th>3</th>\n",
       "      <td>2019-11-13</td>\n",
       "      <td>10:01:07</td>\n",
       "      <td>Mr. Green</td>\n",
       "      <td>THANK YOU, MR. SPEAKER. MR. SPEAKER, IT AND ST...</td>\n",
       "      <td>GREEN</td>\n",
       "    </tr>\n",
       "    <tr>\n",
       "      <th>4</th>\n",
       "      <td>2019-11-13</td>\n",
       "      <td>10:04:09</td>\n",
       "      <td>The Speaker Pro Tempore</td>\n",
       "      <td>MEMBERS ARE REMINDED TO REFRAIN FROM ENGAGING ...</td>\n",
       "      <td>NaN</td>\n",
       "    </tr>\n",
       "  </tbody>\n",
       "</table>\n",
       "</div>"
      ],
      "text/plain": [
       "        Date      Time                  Speaker  \\\n",
       "0 2019-11-13  10:00:00  The Speaker Pro Tempore   \n",
       "1 2019-11-13  10:00:08                The Clerk   \n",
       "2 2019-11-13  10:00:24  The Speaker Pro Tempore   \n",
       "3 2019-11-13  10:01:07                Mr. Green   \n",
       "4 2019-11-13  10:04:09  The Speaker Pro Tempore   \n",
       "\n",
       "                                                Text Last Name  \n",
       "0  THE HOUSE WILL BE IN ORDER. THE CHAIR LAYS BEF...       NaN  \n",
       "1  THE SPEAKER'S ROOMS, WASHINGTON, D.C. NOVEMBER...       NaN  \n",
       "2  PURSUANT TO THE ORDER OF THE HOUSE OF JANUARY ...       NaN  \n",
       "3  THANK YOU, MR. SPEAKER. MR. SPEAKER, IT AND ST...     GREEN  \n",
       "4  MEMBERS ARE REMINDED TO REFRAIN FROM ENGAGING ...       NaN  "
      ]
     },
     "execution_count": 4,
     "metadata": {},
     "output_type": "execute_result"
    }
   ],
   "source": [
    "speech['Last Name'] = speech['Speaker'].apply( lambda x: x.split( ' ' )[-1:][0].upper() )\n",
    "speech.loc[speech['Last Name'].isin(['TEMPORE','CLERK',']','CHAIR','SECRETARY']),'Last Name'] = np.nan\n",
    "speech.head()"
   ]
  },
  {
   "cell_type": "code",
   "execution_count": 5,
   "metadata": {
    "tags": []
   },
   "outputs": [
    {
     "data": {
      "text/plain": [
       "array([nan, 'GREEN', 'MITCHELL', 'FOXX', 'BROOKS', 'EMMER', 'VEASEY',\n",
       "       'COMER', 'STEIL', 'WRIGHT', 'THOMPSON', 'PENCE', 'SPEAKER',\n",
       "       'CHAPLAIN', 'PETERS', 'HAALAND', 'HIGGINS', 'NEWHOUSE', 'MURPHY',\n",
       "       'ANY', 'AXNE', 'ROSE', 'MORELLE', 'PAPPAS', 'MALINOWSKI', 'RASKIN',\n",
       "       'COLLINS', 'NORTON', 'CHABOT', 'STANTON', 'SCHNEIDER', 'SERVE',\n",
       "       'SPANO', 'BALDERSON', 'KIM', 'BURCHETT', 'DELGADO', 'DAVIDS',\n",
       "       'KELLY', 'GONZALEZ-COLON', 'GARCIA', 'LOUDERMILK', 'FITZPATRICK',\n",
       "       'DESAULNIER', 'SPEIER', 'PAYNE', 'DAVIS', 'KELLER', 'POWELL',\n",
       "       'MUCARSEL-POWELL', 'GUEST', 'SPANBERGER', 'DREW', 'LAMALFA',\n",
       "       'ESPAILLAT', 'COSTA', 'VARGAS', 'CORREA', 'SOTO', 'BARRAGAN',\n",
       "       'BYRNE', 'SUPREMACY', 'HOYER', 'BUDD', 'COURTNEY', 'ROY',\n",
       "       'SLOTKIN', 'ABRAHAM', 'GOEMZ', 'GOMEZ', 'MARSHALL', 'CROW',\n",
       "       'WILSON', 'DEUTCH', 'CRIST', 'WILLIAMS', 'DEAN', 'LIPINSKI',\n",
       "       'PLASKETT', 'LEE', 'CICILLINE', 'WOODALL', 'LUCAS', 'NAY',\n",
       "       'WALORSKI', 'WATERS', 'MCHENRY', 'HECK', 'WATER', 'HUIZENGA',\n",
       "       'BARR', 'HILL', 'HERN', 'STIVERS', 'TIPTON', 'GONZALEZ', 'TORRES',\n",
       "       'FLORES', 'CASTEN', 'MCADAMS', 'DAVIDSON', 'TLAIB', 'CASE',\n",
       "       'KILDEE', 'RUIZ', 'SCHWEIKERT', 'GOHMERT', 'CONROY', 'CARTER',\n",
       "       'JOHNSON', 'BONAMICI', 'MENG', 'BROWN', 'LAM', 'LAMB', 'ROWDYA',\n",
       "       'ROUDA', 'STEVENS', 'HORN', 'LEVIN', 'SMALL', 'RIGGLEMAN',\n",
       "       'RIGPMAN', 'SCALISE', 'UNDERWOOD', 'MEUSER', 'OCASIO-CORTEZ',\n",
       "       'HERRERA', 'CALVERT', 'WAGNER', 'ROUZER', 'GRAVES', 'PRICE',\n",
       "       'ROUSER', 'IF', 'BISHOP', 'MEEKS', 'MALONEY', 'ZELDIN', 'CLAY',\n",
       "       'TURNER', 'MAST', 'LANGEVIN', 'WEBBER', 'BABIN', 'BURGESS',\n",
       "       'TAYLOR', 'OLSON', 'ARRINGTON', 'BEATTY', 'NAPOLITANO', 'LAWRENCE',\n",
       "       'BEACHY', 'BERA', 'SMUCKER', 'ROBY', 'GRAY', 'MESSENGER',\n",
       "       'STAUBER', 'CRAIG', 'MCGOVERN', 'COLE', 'LOWEY', 'GRANGER',\n",
       "       'KAPTUR', 'WOMACK', 'SCHULTZ', 'CISNEROS', 'SCOTT', 'HICE',\n",
       "       'LEWIS', 'MCBATH', 'AUSTRIA', 'AUSTIN', 'ALLEN', 'FERGUSON',\n",
       "       'MOORE', 'KASICH', 'GIANFORTE', 'RICHMOND', 'BACON', 'SCHRADER',\n",
       "       'CLARKE', 'CARTWRIGHT', 'WILD', 'GROTHMAN', 'ASK', 'HUFFMAN',\n",
       "       'MCCLINTOCK', 'MR.ING', 'KEATING', 'AGUILAR', 'COOK', 'SOUZZI',\n",
       "       'SABLAN', 'MCCAUL', 'CUNNINGHAM', 'BLUMENAUER', 'WEBSTER',\n",
       "       'WITTMAN', 'SMITH', 'FORTENBERRY', 'LIEU', 'ENGEL', 'YOHO',\n",
       "       'SHERMAN', 'PANETTA', 'CLINE', 'FLETCHER', 'LAMBORN', 'RODGERS',\n",
       "       'ESTES', 'KING', 'HARTZLER', 'TAKANO', 'CLEAVER', 'LEAH',\n",
       "       'COLEMAN', 'PRESSLEY', 'NORCROSS', 'CURTIS', 'BROWNLEY', 'KUSTER',\n",
       "       'BRADY', 'ADAMS', 'FINKENAUER', 'SCHAKOWSKY', 'MS.WILSON',\n",
       "       'HASTINGS', 'HARDER', 'WEXTON', 'DUNCAN', 'DUNN', 'JEFFRIES',\n",
       "       \"O'HALLERAN\", 'COSTELLO'], dtype=object)"
      ]
     },
     "execution_count": 5,
     "metadata": {},
     "output_type": "execute_result"
    }
   ],
   "source": [
    "speech['Last Name'].unique()"
   ]
  },
  {
   "cell_type": "markdown",
   "metadata": {
    "tags": []
   },
   "source": [
    "## Get representative names\n",
    "\n",
    "The representatives are stored in a table extracted from Wikipedia.  Let's load that now."
   ]
  },
  {
   "cell_type": "code",
   "execution_count": 6,
   "metadata": {
    "tags": []
   },
   "outputs": [
    {
     "data": {
      "text/html": [
       "<div>\n",
       "<style scoped>\n",
       "    .dataframe tbody tr th:only-of-type {\n",
       "        vertical-align: middle;\n",
       "    }\n",
       "\n",
       "    .dataframe tbody tr th {\n",
       "        vertical-align: top;\n",
       "    }\n",
       "\n",
       "    .dataframe thead th {\n",
       "        text-align: right;\n",
       "    }\n",
       "</style>\n",
       "<table border=\"1\" class=\"dataframe\">\n",
       "  <thead>\n",
       "    <tr style=\"text-align: right;\">\n",
       "      <th></th>\n",
       "      <th>District</th>\n",
       "      <th>Member</th>\n",
       "      <th>Party</th>\n",
       "      <th>Prior experience</th>\n",
       "      <th>Education</th>\n",
       "      <th>Assumed office</th>\n",
       "      <th>Residence</th>\n",
       "      <th>Born</th>\n",
       "      <th>Last Name</th>\n",
       "      <th>State</th>\n",
       "    </tr>\n",
       "  </thead>\n",
       "  <tbody>\n",
       "    <tr>\n",
       "      <th>0</th>\n",
       "      <td>Alabama 1</td>\n",
       "      <td>Bradley Byrne</td>\n",
       "      <td>Republican</td>\n",
       "      <td>Alabama Senate Alabama State Board of Education</td>\n",
       "      <td>Duke University ( BA ) University of Alabama (...</td>\n",
       "      <td>2014 (Special)</td>\n",
       "      <td>Fairhope</td>\n",
       "      <td>1955.0</td>\n",
       "      <td>BYRNE</td>\n",
       "      <td>ALABAMA</td>\n",
       "    </tr>\n",
       "    <tr>\n",
       "      <th>1</th>\n",
       "      <td>Alabama 2</td>\n",
       "      <td>Martha Roby</td>\n",
       "      <td>Republican</td>\n",
       "      <td>Montgomery, Alabama City Council</td>\n",
       "      <td>New York University ( BM ) Samford University ...</td>\n",
       "      <td>2011</td>\n",
       "      <td>Montgomery</td>\n",
       "      <td>1976.0</td>\n",
       "      <td>ROBY</td>\n",
       "      <td>ALABAMA</td>\n",
       "    </tr>\n",
       "    <tr>\n",
       "      <th>2</th>\n",
       "      <td>Alabama 3</td>\n",
       "      <td>Mike Rogers</td>\n",
       "      <td>Republican</td>\n",
       "      <td>Calhoun County, Alabama Commissioner Alabama H...</td>\n",
       "      <td>Jacksonville State University ( BA , MPA ) Bir...</td>\n",
       "      <td>2003</td>\n",
       "      <td>Saks</td>\n",
       "      <td>1958.0</td>\n",
       "      <td>ROGERS</td>\n",
       "      <td>ALABAMA</td>\n",
       "    </tr>\n",
       "    <tr>\n",
       "      <th>3</th>\n",
       "      <td>Alabama 4</td>\n",
       "      <td>Robert Aderholt</td>\n",
       "      <td>Republican</td>\n",
       "      <td>Haleyville, Alabama Municipal Judge</td>\n",
       "      <td>University of North Alabama Birmingham–Souther...</td>\n",
       "      <td>1997</td>\n",
       "      <td>Haleyville</td>\n",
       "      <td>1965.0</td>\n",
       "      <td>ADERHOLT</td>\n",
       "      <td>ALABAMA</td>\n",
       "    </tr>\n",
       "    <tr>\n",
       "      <th>4</th>\n",
       "      <td>Alabama 5</td>\n",
       "      <td>Mo Brooks</td>\n",
       "      <td>Republican</td>\n",
       "      <td>Alabama House of Representatives Madison Count...</td>\n",
       "      <td>Duke University ( BA ) University of Alabama (...</td>\n",
       "      <td>2011</td>\n",
       "      <td>Huntsville</td>\n",
       "      <td>1954.0</td>\n",
       "      <td>BROOKS</td>\n",
       "      <td>ALABAMA</td>\n",
       "    </tr>\n",
       "  </tbody>\n",
       "</table>\n",
       "</div>"
      ],
      "text/plain": [
       "    District           Member       Party  \\\n",
       "0  Alabama 1    Bradley Byrne  Republican   \n",
       "1  Alabama 2      Martha Roby  Republican   \n",
       "2  Alabama 3      Mike Rogers  Republican   \n",
       "3  Alabama 4  Robert Aderholt  Republican   \n",
       "4  Alabama 5        Mo Brooks  Republican   \n",
       "\n",
       "                                    Prior experience  \\\n",
       "0    Alabama Senate Alabama State Board of Education   \n",
       "1                   Montgomery, Alabama City Council   \n",
       "2  Calhoun County, Alabama Commissioner Alabama H...   \n",
       "3                Haleyville, Alabama Municipal Judge   \n",
       "4  Alabama House of Representatives Madison Count...   \n",
       "\n",
       "                                           Education  Assumed office  \\\n",
       "0  Duke University ( BA ) University of Alabama (...  2014 (Special)   \n",
       "1  New York University ( BM ) Samford University ...            2011   \n",
       "2  Jacksonville State University ( BA , MPA ) Bir...            2003   \n",
       "3  University of North Alabama Birmingham–Souther...            1997   \n",
       "4  Duke University ( BA ) University of Alabama (...            2011   \n",
       "\n",
       "    Residence    Born Last Name    State  \n",
       "0    Fairhope  1955.0     BYRNE  ALABAMA  \n",
       "1  Montgomery  1976.0      ROBY  ALABAMA  \n",
       "2        Saks  1958.0    ROGERS  ALABAMA  \n",
       "3  Haleyville  1965.0  ADERHOLT  ALABAMA  \n",
       "4  Huntsville  1954.0    BROOKS  ALABAMA  "
      ]
     },
     "execution_count": 6,
     "metadata": {},
     "output_type": "execute_result"
    }
   ],
   "source": [
    "reps = pd.read_excel( 'House-of-Representatives-2020-03-04.xlsx', sheet_name=0 )\n",
    "reps['Last Name'] = reps['Member'].apply( lambda x: x.split( ' ' )[-1:][0].upper() )\n",
    "gap = reps.iloc[0,0][7]\n",
    "reps['State'] = reps['District'].apply( lambda x: x.split( gap )[0].upper() )\n",
    "reps.head()"
   ]
  },
  {
   "cell_type": "markdown",
   "metadata": {
    "tags": []
   },
   "source": [
    "## Joining the tables\n",
    "\n",
    "To join these tables, we need to match up representative names in the one with the other.  Unfortunately, they are not always unique.\n",
    "\n",
    "So we try to match up representative names and double-check them against the state mentioned in the introductory comments before the speaker begins speaking."
   ]
  },
  {
   "cell_type": "code",
   "execution_count": 7,
   "metadata": {
    "tags": []
   },
   "outputs": [
    {
     "data": {
      "text/plain": [
       "22.0     59\n",
       "293.0    55\n",
       "63.0     45\n",
       "24.0     44\n",
       "288.0    37\n",
       "         ..\n",
       "95.0      1\n",
       "408.0     1\n",
       "134.0     1\n",
       "66.0      1\n",
       "207.0     1\n",
       "Name: Guesses, Length: 203, dtype: int64"
      ]
     },
     "execution_count": 7,
     "metadata": {},
     "output_type": "execute_result"
    }
   ],
   "source": [
    "def guess_rep_index ( i ):\n",
    "    last_name = speech.loc[i,'Last Name']\n",
    "    intro = speech.loc[i-1,'Text'][-100:] if i > 0 and type( speech.loc[i-1,'Text'] ) == str else ''\n",
    "    matches = [ j for j in list( reps.index ) if reps.loc[j,'Last Name'] == last_name ]\n",
    "    if len( matches ) == 1:\n",
    "        return matches[0]\n",
    "    for m in matches:\n",
    "        if reps.loc[m,'State'] in intro:\n",
    "            return m\n",
    "    return np.nan\n",
    "speech['Guesses'] = [ guess_rep_index( i ) for i in speech.index ]\n",
    "speech['Guesses'].value_counts()"
   ]
  },
  {
   "cell_type": "markdown",
   "metadata": {
    "tags": []
   },
   "source": [
    "This seems to successfully classify over $\\frac13$ of the speakers:"
   ]
  },
  {
   "cell_type": "code",
   "execution_count": 8,
   "metadata": {
    "tags": []
   },
   "outputs": [
    {
     "data": {
      "text/plain": [
       "True     1964\n",
       "False    1026\n",
       "Name: Guesses, dtype: int64"
      ]
     },
     "execution_count": 8,
     "metadata": {},
     "output_type": "execute_result"
    }
   ],
   "source": [
    "speech['Guesses'].isnull().value_counts()"
   ]
  },
  {
   "cell_type": "markdown",
   "metadata": {
    "tags": []
   },
   "source": [
    "## Process speech content\n",
    "\n",
    "Load the tools needed for natural language processing."
   ]
  },
  {
   "cell_type": "code",
   "execution_count": 9,
   "metadata": {
    "tags": []
   },
   "outputs": [
    {
     "name": "stderr",
     "output_type": "stream",
     "text": [
      "[nltk_data] Downloading package wordnet to /Users/nathan/nltk_data...\n",
      "[nltk_data]   Package wordnet is already up-to-date!\n",
      "[nltk_data] Downloading package averaged_perceptron_tagger to\n",
      "[nltk_data]     /Users/nathan/nltk_data...\n",
      "[nltk_data]   Package averaged_perceptron_tagger is already up-to-\n",
      "[nltk_data]       date!\n",
      "[nltk_data] Downloading package stopwords to\n",
      "[nltk_data]     /Users/nathan/nltk_data...\n",
      "[nltk_data]   Package stopwords is already up-to-date!\n"
     ]
    },
    {
     "data": {
      "text/plain": [
       "True"
      ]
     },
     "execution_count": 9,
     "metadata": {},
     "output_type": "execute_result"
    }
   ],
   "source": [
    "import nltk\n",
    "nltk.download('wordnet')\n",
    "nltk.download('averaged_perceptron_tagger')\n",
    "nltk.download('stopwords')"
   ]
  },
  {
   "cell_type": "markdown",
   "metadata": {
    "tags": []
   },
   "source": [
    "Lemmatize and tokenize speeches to get the most important words only, and in canonical forms."
   ]
  },
  {
   "cell_type": "code",
   "execution_count": 10,
   "metadata": {
    "tags": []
   },
   "outputs": [],
   "source": [
    "from nltk.tag import pos_tag\n",
    "from nltk.stem.wordnet import WordNetLemmatizer\n",
    "import string\n",
    "from nltk.corpus import stopwords\n",
    "\n",
    "stop_words = stopwords.words('english')\n",
    "lemmatizer = WordNetLemmatizer()\n",
    "\n",
    "def tokenize ( text ):\n",
    "    for char in string.punctuation:\n",
    "        text = text.replace( char, ' ' )\n",
    "    result = [ ]\n",
    "    words = [ w for w in text.split( ' ' ) if w != '' ]\n",
    "    for token, tag in pos_tag(words):\n",
    "        if tag.startswith(\"NN\"):\n",
    "            pos = 'n'\n",
    "        elif tag.startswith('VB'):\n",
    "            pos = 'v'\n",
    "        else:\n",
    "            pos = 'a'\n",
    "        token = lemmatizer.lemmatize(token, pos)\n",
    "        if len(token) > 0 and token.lower() not in stop_words:\n",
    "            result.append(token.lower())\n",
    "    return result\n",
    "\n",
    "# tokenize( 'You are one of the best kids I\\'ve ever met, you know that?' )\n",
    "### ==> ['one', 'best', 'kid', 'ever', 'meet', 'know']\n",
    "\n",
    "def simplify ( text ):\n",
    "    return ' '.join( tokenize( text ) ) if type( text ) == str else np.nan"
   ]
  },
  {
   "cell_type": "code",
   "execution_count": 11,
   "metadata": {
    "tags": []
   },
   "outputs": [
    {
     "data": {
      "text/html": [
       "<div>\n",
       "<style scoped>\n",
       "    .dataframe tbody tr th:only-of-type {\n",
       "        vertical-align: middle;\n",
       "    }\n",
       "\n",
       "    .dataframe tbody tr th {\n",
       "        vertical-align: top;\n",
       "    }\n",
       "\n",
       "    .dataframe thead th {\n",
       "        text-align: right;\n",
       "    }\n",
       "</style>\n",
       "<table border=\"1\" class=\"dataframe\">\n",
       "  <thead>\n",
       "    <tr style=\"text-align: right;\">\n",
       "      <th></th>\n",
       "      <th>Date</th>\n",
       "      <th>Time</th>\n",
       "      <th>Speaker</th>\n",
       "      <th>Text</th>\n",
       "      <th>Last Name</th>\n",
       "      <th>Guesses</th>\n",
       "      <th>Simple Text</th>\n",
       "    </tr>\n",
       "  </thead>\n",
       "  <tbody>\n",
       "    <tr>\n",
       "      <th>0</th>\n",
       "      <td>2019-11-13</td>\n",
       "      <td>10:00:00</td>\n",
       "      <td>The Speaker Pro Tempore</td>\n",
       "      <td>THE HOUSE WILL BE IN ORDER. THE CHAIR LAYS BEF...</td>\n",
       "      <td>NaN</td>\n",
       "      <td>NaN</td>\n",
       "      <td>house order chair lays house communication spe...</td>\n",
       "    </tr>\n",
       "    <tr>\n",
       "      <th>1</th>\n",
       "      <td>2019-11-13</td>\n",
       "      <td>10:00:08</td>\n",
       "      <td>The Clerk</td>\n",
       "      <td>THE SPEAKER'S ROOMS, WASHINGTON, D.C. NOVEMBER...</td>\n",
       "      <td>NaN</td>\n",
       "      <td>NaN</td>\n",
       "      <td>speaker rooms washington c november 13 2019 he...</td>\n",
       "    </tr>\n",
       "    <tr>\n",
       "      <th>2</th>\n",
       "      <td>2019-11-13</td>\n",
       "      <td>10:00:24</td>\n",
       "      <td>The Speaker Pro Tempore</td>\n",
       "      <td>PURSUANT TO THE ORDER OF THE HOUSE OF JANUARY ...</td>\n",
       "      <td>NaN</td>\n",
       "      <td>NaN</td>\n",
       "      <td>pursuant order house january 3 2019 chair reco...</td>\n",
       "    </tr>\n",
       "    <tr>\n",
       "      <th>3</th>\n",
       "      <td>2019-11-13</td>\n",
       "      <td>10:01:07</td>\n",
       "      <td>Mr. Green</td>\n",
       "      <td>THANK YOU, MR. SPEAKER. MR. SPEAKER, IT AND ST...</td>\n",
       "      <td>GREEN</td>\n",
       "      <td>369.0</td>\n",
       "      <td>thank mr speaker mr speaker still rise still r...</td>\n",
       "    </tr>\n",
       "    <tr>\n",
       "      <th>4</th>\n",
       "      <td>2019-11-13</td>\n",
       "      <td>10:04:09</td>\n",
       "      <td>The Speaker Pro Tempore</td>\n",
       "      <td>MEMBERS ARE REMINDED TO REFRAIN FROM ENGAGING ...</td>\n",
       "      <td>NaN</td>\n",
       "      <td>NaN</td>\n",
       "      <td>members reminded refrain engaging personalitie...</td>\n",
       "    </tr>\n",
       "  </tbody>\n",
       "</table>\n",
       "</div>"
      ],
      "text/plain": [
       "        Date      Time                  Speaker  \\\n",
       "0 2019-11-13  10:00:00  The Speaker Pro Tempore   \n",
       "1 2019-11-13  10:00:08                The Clerk   \n",
       "2 2019-11-13  10:00:24  The Speaker Pro Tempore   \n",
       "3 2019-11-13  10:01:07                Mr. Green   \n",
       "4 2019-11-13  10:04:09  The Speaker Pro Tempore   \n",
       "\n",
       "                                                Text Last Name  Guesses  \\\n",
       "0  THE HOUSE WILL BE IN ORDER. THE CHAIR LAYS BEF...       NaN      NaN   \n",
       "1  THE SPEAKER'S ROOMS, WASHINGTON, D.C. NOVEMBER...       NaN      NaN   \n",
       "2  PURSUANT TO THE ORDER OF THE HOUSE OF JANUARY ...       NaN      NaN   \n",
       "3  THANK YOU, MR. SPEAKER. MR. SPEAKER, IT AND ST...     GREEN    369.0   \n",
       "4  MEMBERS ARE REMINDED TO REFRAIN FROM ENGAGING ...       NaN      NaN   \n",
       "\n",
       "                                         Simple Text  \n",
       "0  house order chair lays house communication spe...  \n",
       "1  speaker rooms washington c november 13 2019 he...  \n",
       "2  pursuant order house january 3 2019 chair reco...  \n",
       "3  thank mr speaker mr speaker still rise still r...  \n",
       "4  members reminded refrain engaging personalitie...  "
      ]
     },
     "execution_count": 11,
     "metadata": {},
     "output_type": "execute_result"
    }
   ],
   "source": [
    "speech['Simple Text'] = speech['Text'].apply( simplify )\n",
    "speech.head()"
   ]
  },
  {
   "cell_type": "code",
   "execution_count": 12,
   "metadata": {
    "tags": []
   },
   "outputs": [
    {
     "data": {
      "text/plain": [
       "gentleman    1422\n",
       "mr           1335\n",
       "bill         1144\n",
       "time         1079\n",
       "speaker      1042\n",
       "             ... \n",
       "mornedize       1\n",
       "hygiene         1\n",
       "thaddeus        1\n",
       "advertise       1\n",
       "woodland        1\n",
       "Length: 12689, dtype: int64"
      ]
     },
     "execution_count": 12,
     "metadata": {},
     "output_type": "execute_result"
    }
   ],
   "source": [
    "all_words = ' '.join( [ t for t in list( speech['Simple Text'] ) if type( t ) == str ] ).split( ' ' )\n",
    "word_counts = pd.Series( all_words ).value_counts()\n",
    "word_counts"
   ]
  },
  {
   "cell_type": "code",
   "execution_count": 13,
   "metadata": {
    "tags": []
   },
   "outputs": [
    {
     "data": {
      "text/plain": [
       "'h, want, american, many, united, new, important, first, u, national, bipartisan, small, senate, good, great, unanimous, federal, consent, urge, im, better, last, north, long, social, kong, pursuant, proud, colleague, give, yeas, public, economic, mental, bible, native, military, strong, human, able, political, bring, best, rural, high, future, financial, young, osha, critical, suspend, keep, chinese, florida, ordered, live, standard, congressional, pay, perry, legislative, hard, clear, foreign, ohio, real, past, next, possible, partisan, special, speak, different, local, full, appreciate, general, open, usmca, start, medical, global, county, illinois, black, big, unfortunately, f, stop, whole, private, bad, ayes, previous, enough, additional, african, pro, improve, single, faith, underlying, little, affordable, second, known, green, tonight, respect, current, entire, commercial, former, lead, true, democratic, effective, supreme, free, major, international, old, n, gun, v, fiscal, natural, build, prepared, white, child, january, difficult, grateful, fair, subject, electronic, largest, patient, safe, serious, third, democrat, greater, key, ukraine, grant, quality, citizens, meet, necessary, extraneous, successful, low, available, several, affirmative, significant, domestic, wish, due, half, oklahoma, congratulate, sufficient, final, highest, wrong, army, higher, individual, large, personal, clean, total, captioned, ready, short, leave, covered, mississippi, honorable, front, meaningful, spent, corporate, legal, knew, l, equal, wagner, particular, fund, healthy, early, recent, tools, illegal, essential, certain'"
      ]
     },
     "execution_count": 13,
     "metadata": {},
     "output_type": "execute_result"
    }
   ],
   "source": [
    "tagged_words = pos_tag( [ w for w in word_counts.index if len( w ) > 0 ] )\n",
    "tagged_adjs = [ pair[0] for pair in tagged_words if pair[1][:2] == 'JJ' ]\n",
    "', '.join(list(word_counts[tagged_adjs].index[:200]))"
   ]
  },
  {
   "cell_type": "markdown",
   "metadata": {
    "tags": []
   },
   "source": [
    "## Merge tables"
   ]
  },
  {
   "cell_type": "code",
   "execution_count": 14,
   "metadata": {
    "tags": []
   },
   "outputs": [
    {
     "data": {
      "text/html": [
       "<div>\n",
       "<style scoped>\n",
       "    .dataframe tbody tr th:only-of-type {\n",
       "        vertical-align: middle;\n",
       "    }\n",
       "\n",
       "    .dataframe tbody tr th {\n",
       "        vertical-align: top;\n",
       "    }\n",
       "\n",
       "    .dataframe thead th {\n",
       "        text-align: right;\n",
       "    }\n",
       "</style>\n",
       "<table border=\"1\" class=\"dataframe\">\n",
       "  <thead>\n",
       "    <tr style=\"text-align: right;\">\n",
       "      <th></th>\n",
       "      <th>Date</th>\n",
       "      <th>Time</th>\n",
       "      <th>Speaker</th>\n",
       "      <th>Text</th>\n",
       "      <th>Last Name_x</th>\n",
       "      <th>Guesses</th>\n",
       "      <th>Simple Text</th>\n",
       "      <th>District</th>\n",
       "      <th>Member</th>\n",
       "      <th>Party</th>\n",
       "      <th>Prior experience</th>\n",
       "      <th>Education</th>\n",
       "      <th>Assumed office</th>\n",
       "      <th>Residence</th>\n",
       "      <th>Born</th>\n",
       "      <th>Last Name_y</th>\n",
       "      <th>State</th>\n",
       "    </tr>\n",
       "  </thead>\n",
       "  <tbody>\n",
       "    <tr>\n",
       "      <th>3</th>\n",
       "      <td>2019-11-13</td>\n",
       "      <td>10:01:07</td>\n",
       "      <td>Mr. Green</td>\n",
       "      <td>THANK YOU, MR. SPEAKER. MR. SPEAKER, IT AND ST...</td>\n",
       "      <td>GREEN</td>\n",
       "      <td>369.0</td>\n",
       "      <td>thank mr speaker mr speaker still rise still r...</td>\n",
       "      <td>Texas 9</td>\n",
       "      <td>Al Green</td>\n",
       "      <td>Democratic</td>\n",
       "      <td>Harris County, Texas Justice of the Peace , Ho...</td>\n",
       "      <td>Florida A&amp;M University Tuskeegee University ( ...</td>\n",
       "      <td>2005</td>\n",
       "      <td>Houston</td>\n",
       "      <td>1947.0</td>\n",
       "      <td>GREEN</td>\n",
       "      <td>TEXAS</td>\n",
       "    </tr>\n",
       "    <tr>\n",
       "      <th>369</th>\n",
       "      <td>2019-11-13</td>\n",
       "      <td>18:41:39</td>\n",
       "      <td>Mr. Green</td>\n",
       "      <td>THANK YOU, MADAM SPEAKER. MADAM SPEAKER, AND S...</td>\n",
       "      <td>GREEN</td>\n",
       "      <td>369.0</td>\n",
       "      <td>thank madam speaker madam speaker still rise r...</td>\n",
       "      <td>Texas 9</td>\n",
       "      <td>Al Green</td>\n",
       "      <td>Democratic</td>\n",
       "      <td>Harris County, Texas Justice of the Peace , Ho...</td>\n",
       "      <td>Florida A&amp;M University Tuskeegee University ( ...</td>\n",
       "      <td>2005</td>\n",
       "      <td>Houston</td>\n",
       "      <td>1947.0</td>\n",
       "      <td>GREEN</td>\n",
       "      <td>TEXAS</td>\n",
       "    </tr>\n",
       "    <tr>\n",
       "      <th>373</th>\n",
       "      <td>2019-11-13</td>\n",
       "      <td>19:03:38</td>\n",
       "      <td>Mr. Green</td>\n",
       "      <td>MADAM SPEAKER, I DO NOW MOVE THAT THE HOUSE AD...</td>\n",
       "      <td>GREEN</td>\n",
       "      <td>369.0</td>\n",
       "      <td>madam speaker move house adjourn</td>\n",
       "      <td>Texas 9</td>\n",
       "      <td>Al Green</td>\n",
       "      <td>Democratic</td>\n",
       "      <td>Harris County, Texas Justice of the Peace , Ho...</td>\n",
       "      <td>Florida A&amp;M University Tuskeegee University ( ...</td>\n",
       "      <td>2005</td>\n",
       "      <td>Houston</td>\n",
       "      <td>1947.0</td>\n",
       "      <td>GREEN</td>\n",
       "      <td>TEXAS</td>\n",
       "    </tr>\n",
       "    <tr>\n",
       "      <th>1231</th>\n",
       "      <td>2019-11-18</td>\n",
       "      <td>16:19:29</td>\n",
       "      <td>Mr. Green</td>\n",
       "      <td>I ASK UNANIMOUS CONSENT THAT ALL MEMBERS HAVE ...</td>\n",
       "      <td>GREEN</td>\n",
       "      <td>369.0</td>\n",
       "      <td>ask unanimous consent members five legislative...</td>\n",
       "      <td>Texas 9</td>\n",
       "      <td>Al Green</td>\n",
       "      <td>Democratic</td>\n",
       "      <td>Harris County, Texas Justice of the Peace , Ho...</td>\n",
       "      <td>Florida A&amp;M University Tuskeegee University ( ...</td>\n",
       "      <td>2005</td>\n",
       "      <td>Houston</td>\n",
       "      <td>1947.0</td>\n",
       "      <td>GREEN</td>\n",
       "      <td>TEXAS</td>\n",
       "    </tr>\n",
       "    <tr>\n",
       "      <th>1245</th>\n",
       "      <td>2019-11-18</td>\n",
       "      <td>16:33:05</td>\n",
       "      <td>Mr. Green</td>\n",
       "      <td>I'M HORPPED AT THIS TIME TO YIELD ONE MINUTE T...</td>\n",
       "      <td>GREEN</td>\n",
       "      <td>369.0</td>\n",
       "      <td>horpped time yield one minute honorable leader...</td>\n",
       "      <td>Texas 9</td>\n",
       "      <td>Al Green</td>\n",
       "      <td>Democratic</td>\n",
       "      <td>Harris County, Texas Justice of the Peace , Ho...</td>\n",
       "      <td>Florida A&amp;M University Tuskeegee University ( ...</td>\n",
       "      <td>2005</td>\n",
       "      <td>Houston</td>\n",
       "      <td>1947.0</td>\n",
       "      <td>GREEN</td>\n",
       "      <td>TEXAS</td>\n",
       "    </tr>\n",
       "  </tbody>\n",
       "</table>\n",
       "</div>"
      ],
      "text/plain": [
       "           Date      Time    Speaker  \\\n",
       "3    2019-11-13  10:01:07  Mr. Green   \n",
       "369  2019-11-13  18:41:39  Mr. Green   \n",
       "373  2019-11-13  19:03:38  Mr. Green   \n",
       "1231 2019-11-18  16:19:29  Mr. Green   \n",
       "1245 2019-11-18  16:33:05  Mr. Green   \n",
       "\n",
       "                                                   Text Last Name_x  Guesses  \\\n",
       "3     THANK YOU, MR. SPEAKER. MR. SPEAKER, IT AND ST...       GREEN    369.0   \n",
       "369   THANK YOU, MADAM SPEAKER. MADAM SPEAKER, AND S...       GREEN    369.0   \n",
       "373   MADAM SPEAKER, I DO NOW MOVE THAT THE HOUSE AD...       GREEN    369.0   \n",
       "1231  I ASK UNANIMOUS CONSENT THAT ALL MEMBERS HAVE ...       GREEN    369.0   \n",
       "1245  I'M HORPPED AT THIS TIME TO YIELD ONE MINUTE T...       GREEN    369.0   \n",
       "\n",
       "                                            Simple Text District    Member  \\\n",
       "3     thank mr speaker mr speaker still rise still r...  Texas 9  Al Green   \n",
       "369   thank madam speaker madam speaker still rise r...  Texas 9  Al Green   \n",
       "373                    madam speaker move house adjourn  Texas 9  Al Green   \n",
       "1231  ask unanimous consent members five legislative...  Texas 9  Al Green   \n",
       "1245  horpped time yield one minute honorable leader...  Texas 9  Al Green   \n",
       "\n",
       "           Party                                   Prior experience  \\\n",
       "3     Democratic  Harris County, Texas Justice of the Peace , Ho...   \n",
       "369   Democratic  Harris County, Texas Justice of the Peace , Ho...   \n",
       "373   Democratic  Harris County, Texas Justice of the Peace , Ho...   \n",
       "1231  Democratic  Harris County, Texas Justice of the Peace , Ho...   \n",
       "1245  Democratic  Harris County, Texas Justice of the Peace , Ho...   \n",
       "\n",
       "                                              Education Assumed office  \\\n",
       "3     Florida A&M University Tuskeegee University ( ...           2005   \n",
       "369   Florida A&M University Tuskeegee University ( ...           2005   \n",
       "373   Florida A&M University Tuskeegee University ( ...           2005   \n",
       "1231  Florida A&M University Tuskeegee University ( ...           2005   \n",
       "1245  Florida A&M University Tuskeegee University ( ...           2005   \n",
       "\n",
       "     Residence    Born Last Name_y  State  \n",
       "3      Houston  1947.0       GREEN  TEXAS  \n",
       "369    Houston  1947.0       GREEN  TEXAS  \n",
       "373    Houston  1947.0       GREEN  TEXAS  \n",
       "1231   Houston  1947.0       GREEN  TEXAS  \n",
       "1245   Houston  1947.0       GREEN  TEXAS  "
      ]
     },
     "execution_count": 14,
     "metadata": {},
     "output_type": "execute_result"
    }
   ],
   "source": [
    "merged = pd.merge( speech, reps, left_on='Guesses', right_index=True, how='inner' )\n",
    "merged.head()"
   ]
  },
  {
   "cell_type": "code",
   "execution_count": 15,
   "metadata": {
    "tags": []
   },
   "outputs": [
    {
     "data": {
      "text/plain": [
       "1026"
      ]
     },
     "execution_count": 15,
     "metadata": {},
     "output_type": "execute_result"
    }
   ],
   "source": [
    "len(merged)"
   ]
  },
  {
   "cell_type": "markdown",
   "metadata": {
    "tags": []
   },
   "source": [
    "## Add features"
   ]
  },
  {
   "cell_type": "code",
   "execution_count": 16,
   "metadata": {
    "tags": []
   },
   "outputs": [
    {
     "data": {
      "text/html": [
       "<div>\n",
       "<style scoped>\n",
       "    .dataframe tbody tr th:only-of-type {\n",
       "        vertical-align: middle;\n",
       "    }\n",
       "\n",
       "    .dataframe tbody tr th {\n",
       "        vertical-align: top;\n",
       "    }\n",
       "\n",
       "    .dataframe thead th {\n",
       "        text-align: right;\n",
       "    }\n",
       "</style>\n",
       "<table border=\"1\" class=\"dataframe\">\n",
       "  <thead>\n",
       "    <tr style=\"text-align: right;\">\n",
       "      <th></th>\n",
       "      <th>Date</th>\n",
       "      <th>Time</th>\n",
       "      <th>Speaker</th>\n",
       "      <th>Text</th>\n",
       "      <th>Last Name_x</th>\n",
       "      <th>Guesses</th>\n",
       "      <th>Simple Text</th>\n",
       "      <th>District</th>\n",
       "      <th>Member</th>\n",
       "      <th>Party</th>\n",
       "      <th>Prior experience</th>\n",
       "      <th>Education</th>\n",
       "      <th>Assumed office</th>\n",
       "      <th>Residence</th>\n",
       "      <th>Born</th>\n",
       "      <th>Last Name_y</th>\n",
       "      <th>State</th>\n",
       "      <th>Text Length</th>\n",
       "    </tr>\n",
       "  </thead>\n",
       "  <tbody>\n",
       "    <tr>\n",
       "      <th>3</th>\n",
       "      <td>2019-11-13</td>\n",
       "      <td>10:01:07</td>\n",
       "      <td>Mr. Green</td>\n",
       "      <td>THANK YOU, MR. SPEAKER. MR. SPEAKER, IT AND ST...</td>\n",
       "      <td>GREEN</td>\n",
       "      <td>369.0</td>\n",
       "      <td>thank mr speaker mr speaker still rise still r...</td>\n",
       "      <td>Texas 9</td>\n",
       "      <td>Al Green</td>\n",
       "      <td>Democratic</td>\n",
       "      <td>Harris County, Texas Justice of the Peace , Ho...</td>\n",
       "      <td>Florida A&amp;M University Tuskeegee University ( ...</td>\n",
       "      <td>2005</td>\n",
       "      <td>Houston</td>\n",
       "      <td>1947.0</td>\n",
       "      <td>GREEN</td>\n",
       "      <td>TEXAS</td>\n",
       "      <td>2169</td>\n",
       "    </tr>\n",
       "    <tr>\n",
       "      <th>369</th>\n",
       "      <td>2019-11-13</td>\n",
       "      <td>18:41:39</td>\n",
       "      <td>Mr. Green</td>\n",
       "      <td>THANK YOU, MADAM SPEAKER. MADAM SPEAKER, AND S...</td>\n",
       "      <td>GREEN</td>\n",
       "      <td>369.0</td>\n",
       "      <td>thank madam speaker madam speaker still rise r...</td>\n",
       "      <td>Texas 9</td>\n",
       "      <td>Al Green</td>\n",
       "      <td>Democratic</td>\n",
       "      <td>Harris County, Texas Justice of the Peace , Ho...</td>\n",
       "      <td>Florida A&amp;M University Tuskeegee University ( ...</td>\n",
       "      <td>2005</td>\n",
       "      <td>Houston</td>\n",
       "      <td>1947.0</td>\n",
       "      <td>GREEN</td>\n",
       "      <td>TEXAS</td>\n",
       "      <td>2858</td>\n",
       "    </tr>\n",
       "    <tr>\n",
       "      <th>373</th>\n",
       "      <td>2019-11-13</td>\n",
       "      <td>19:03:38</td>\n",
       "      <td>Mr. Green</td>\n",
       "      <td>MADAM SPEAKER, I DO NOW MOVE THAT THE HOUSE AD...</td>\n",
       "      <td>GREEN</td>\n",
       "      <td>369.0</td>\n",
       "      <td>madam speaker move house adjourn</td>\n",
       "      <td>Texas 9</td>\n",
       "      <td>Al Green</td>\n",
       "      <td>Democratic</td>\n",
       "      <td>Harris County, Texas Justice of the Peace , Ho...</td>\n",
       "      <td>Florida A&amp;M University Tuskeegee University ( ...</td>\n",
       "      <td>2005</td>\n",
       "      <td>Houston</td>\n",
       "      <td>1947.0</td>\n",
       "      <td>GREEN</td>\n",
       "      <td>TEXAS</td>\n",
       "      <td>52</td>\n",
       "    </tr>\n",
       "    <tr>\n",
       "      <th>1231</th>\n",
       "      <td>2019-11-18</td>\n",
       "      <td>16:19:29</td>\n",
       "      <td>Mr. Green</td>\n",
       "      <td>I ASK UNANIMOUS CONSENT THAT ALL MEMBERS HAVE ...</td>\n",
       "      <td>GREEN</td>\n",
       "      <td>369.0</td>\n",
       "      <td>ask unanimous consent members five legislative...</td>\n",
       "      <td>Texas 9</td>\n",
       "      <td>Al Green</td>\n",
       "      <td>Democratic</td>\n",
       "      <td>Harris County, Texas Justice of the Peace , Ho...</td>\n",
       "      <td>Florida A&amp;M University Tuskeegee University ( ...</td>\n",
       "      <td>2005</td>\n",
       "      <td>Houston</td>\n",
       "      <td>1947.0</td>\n",
       "      <td>GREEN</td>\n",
       "      <td>TEXAS</td>\n",
       "      <td>204</td>\n",
       "    </tr>\n",
       "    <tr>\n",
       "      <th>1245</th>\n",
       "      <td>2019-11-18</td>\n",
       "      <td>16:33:05</td>\n",
       "      <td>Mr. Green</td>\n",
       "      <td>I'M HORPPED AT THIS TIME TO YIELD ONE MINUTE T...</td>\n",
       "      <td>GREEN</td>\n",
       "      <td>369.0</td>\n",
       "      <td>horpped time yield one minute honorable leader...</td>\n",
       "      <td>Texas 9</td>\n",
       "      <td>Al Green</td>\n",
       "      <td>Democratic</td>\n",
       "      <td>Harris County, Texas Justice of the Peace , Ho...</td>\n",
       "      <td>Florida A&amp;M University Tuskeegee University ( ...</td>\n",
       "      <td>2005</td>\n",
       "      <td>Houston</td>\n",
       "      <td>1947.0</td>\n",
       "      <td>GREEN</td>\n",
       "      <td>TEXAS</td>\n",
       "      <td>112</td>\n",
       "    </tr>\n",
       "  </tbody>\n",
       "</table>\n",
       "</div>"
      ],
      "text/plain": [
       "           Date      Time    Speaker  \\\n",
       "3    2019-11-13  10:01:07  Mr. Green   \n",
       "369  2019-11-13  18:41:39  Mr. Green   \n",
       "373  2019-11-13  19:03:38  Mr. Green   \n",
       "1231 2019-11-18  16:19:29  Mr. Green   \n",
       "1245 2019-11-18  16:33:05  Mr. Green   \n",
       "\n",
       "                                                   Text Last Name_x  Guesses  \\\n",
       "3     THANK YOU, MR. SPEAKER. MR. SPEAKER, IT AND ST...       GREEN    369.0   \n",
       "369   THANK YOU, MADAM SPEAKER. MADAM SPEAKER, AND S...       GREEN    369.0   \n",
       "373   MADAM SPEAKER, I DO NOW MOVE THAT THE HOUSE AD...       GREEN    369.0   \n",
       "1231  I ASK UNANIMOUS CONSENT THAT ALL MEMBERS HAVE ...       GREEN    369.0   \n",
       "1245  I'M HORPPED AT THIS TIME TO YIELD ONE MINUTE T...       GREEN    369.0   \n",
       "\n",
       "                                            Simple Text District    Member  \\\n",
       "3     thank mr speaker mr speaker still rise still r...  Texas 9  Al Green   \n",
       "369   thank madam speaker madam speaker still rise r...  Texas 9  Al Green   \n",
       "373                    madam speaker move house adjourn  Texas 9  Al Green   \n",
       "1231  ask unanimous consent members five legislative...  Texas 9  Al Green   \n",
       "1245  horpped time yield one minute honorable leader...  Texas 9  Al Green   \n",
       "\n",
       "           Party                                   Prior experience  \\\n",
       "3     Democratic  Harris County, Texas Justice of the Peace , Ho...   \n",
       "369   Democratic  Harris County, Texas Justice of the Peace , Ho...   \n",
       "373   Democratic  Harris County, Texas Justice of the Peace , Ho...   \n",
       "1231  Democratic  Harris County, Texas Justice of the Peace , Ho...   \n",
       "1245  Democratic  Harris County, Texas Justice of the Peace , Ho...   \n",
       "\n",
       "                                              Education Assumed office  \\\n",
       "3     Florida A&M University Tuskeegee University ( ...           2005   \n",
       "369   Florida A&M University Tuskeegee University ( ...           2005   \n",
       "373   Florida A&M University Tuskeegee University ( ...           2005   \n",
       "1231  Florida A&M University Tuskeegee University ( ...           2005   \n",
       "1245  Florida A&M University Tuskeegee University ( ...           2005   \n",
       "\n",
       "     Residence    Born Last Name_y  State  Text Length  \n",
       "3      Houston  1947.0       GREEN  TEXAS         2169  \n",
       "369    Houston  1947.0       GREEN  TEXAS         2858  \n",
       "373    Houston  1947.0       GREEN  TEXAS           52  \n",
       "1231   Houston  1947.0       GREEN  TEXAS          204  \n",
       "1245   Houston  1947.0       GREEN  TEXAS          112  "
      ]
     },
     "execution_count": 16,
     "metadata": {},
     "output_type": "execute_result"
    }
   ],
   "source": [
    "merged['Text Length'] = merged['Text'].apply( lambda x: len(x) if type(x)==str else 0 )\n",
    "merged.head()"
   ]
  },
  {
   "cell_type": "markdown",
   "metadata": {
    "tags": []
   },
   "source": [
    "## Try random things now"
   ]
  },
  {
   "cell_type": "code",
   "execution_count": 17,
   "metadata": {
    "tags": []
   },
   "outputs": [
    {
     "name": "stdout",
     "output_type": "stream",
     "text": [
      "15 Democratic words:\n",
      "['unanimous', 'consent', 'urge', 'pursuant', 'critical', 'suspend', 'pay', 'legislative', 'hard', 'local', 'illinois', 'black', 'african', 'underlying', 'affordable']\n",
      "19 Republican words:\n",
      "['give', 'yeas', 'public', 'bible', 'military', 'political', 'rural', 'chinese', 'perry', 'real', 'different', 'appreciate', 'general', 'usmca', 'big', 'bad', 'faith', 'little', 'second']\n"
     ]
    }
   ],
   "source": [
    "dem_words = [ ]\n",
    "rep_words = [ ]\n",
    "def check_word_party ( word ):\n",
    "    global dem_words, rep_words\n",
    "    where_word = merged['Simple Text'].apply( lambda text: type(text) == str and word in text )\n",
    "    results = merged[where_word]['Party'].value_counts()\n",
    "    dem = results['Democratic'] if 'Democratic' in results.index else 0\n",
    "    rep = results['Republican'] if 'Republican' in results.index else 0\n",
    "    if dem > 1.5*rep:\n",
    "        dem_words.append( word )\n",
    "    if rep > 1.5*dem:\n",
    "        rep_words.append( word )\n",
    "# important_words = [ 'american', 'united', 'national', 'bipartisan', 'senate', 'unanimous', 'federal', 'social',\n",
    "#     'bible', 'military', 'strong', 'political', 'rural', 'financial', 'chinese', 'foreign', 'partisan', 'freedom',\n",
    "#     'mexico', 'global', 'black', 'impeachment', 'daca', 'commitment', 'true', 'supreme', 'international', 'white',\n",
    "#     'difficult', 'fair', 'ukraine', 'serious', 'extraneous', 'necessary', 'wrong', 'personal', 'honorable' ]\n",
    "common_adjs = word_counts[tagged_adjs].index[word_counts[tagged_adjs] > 50]\n",
    "for word in common_adjs:\n",
    "    check_word_party( word )\n",
    "print( '%d Democratic words:' % len(dem_words) )\n",
    "print( dem_words )\n",
    "print( '%d Republican words:' % len(rep_words) )\n",
    "print( rep_words )"
   ]
  },
  {
   "cell_type": "code",
   "execution_count": 18,
   "metadata": {
    "tags": []
   },
   "outputs": [],
   "source": [
    "import matplotlib.pyplot as plt"
   ]
  },
  {
   "cell_type": "code",
   "execution_count": 19,
   "metadata": {
    "tags": []
   },
   "outputs": [
    {
     "data": {
      "image/png": "[encoded data removed]",
      "text/plain": [
       "<Figure size 432x288 with 1 Axes>"
      ]
     },
     "metadata": {
      "needs_background": "light"
     },
     "output_type": "display_data"
    }
   ],
   "source": [
    "plt.hist( [ merged[merged['Party']=='Democratic']['Text Length'],\n",
    "            merged[merged['Party']=='Republican']['Text Length'] ], label=['Dem','Rep'] )\n",
    "plt.legend()\n",
    "plt.yscale( 'log' )\n",
    "plt.show()"
   ]
  },
  {
   "cell_type": "code",
   "execution_count": 20,
   "metadata": {
    "tags": []
   },
   "outputs": [
    {
     "data": {
      "text/plain": [
       "(500319, 601243)"
      ]
     },
     "execution_count": 20,
     "metadata": {},
     "output_type": "execute_result"
    }
   ],
   "source": [
    "sum( merged[merged['Party']=='Democratic']['Text Length'] ), \\\n",
    "sum( merged[merged['Party']=='Republican']['Text Length'] )"
   ]
  },
  {
   "cell_type": "code",
   "execution_count": 21,
   "metadata": {
    "tags": []
   },
   "outputs": [
    {
     "data": {
      "text/plain": [
       "(568, 458)"
      ]
     },
     "execution_count": 21,
     "metadata": {},
     "output_type": "execute_result"
    }
   ],
   "source": [
    "len( merged[merged['Party']=='Democratic']['Text Length'] ), \\\n",
    "len( merged[merged['Party']=='Republican']['Text Length'] )"
   ]
  },
  {
   "cell_type": "code",
   "execution_count": 22,
   "metadata": {
    "tags": []
   },
   "outputs": [
    {
     "data": {
      "text/plain": [
       "(880.8433098591549, 1312.7576419213974)"
      ]
     },
     "execution_count": 22,
     "metadata": {},
     "output_type": "execute_result"
    }
   ],
   "source": [
    "merged[merged['Party']=='Democratic']['Text Length'].mean(), \\\n",
    "merged[merged['Party']=='Republican']['Text Length'].mean()"
   ]
  },
  {
   "cell_type": "code",
   "execution_count": 23,
   "metadata": {
    "tags": []
   },
   "outputs": [
    {
     "name": "stdout",
     "output_type": "stream",
     "text": [
      "<class 'pandas.core.frame.DataFrame'>\n",
      "Int64Index: 1026 entries, 3 to 2972\n",
      "Data columns (total 18 columns):\n",
      " #   Column            Non-Null Count  Dtype         \n",
      "---  ------            --------------  -----         \n",
      " 0   Date              1026 non-null   datetime64[ns]\n",
      " 1   Time              1026 non-null   object        \n",
      " 2   Speaker           1026 non-null   object        \n",
      " 3   Text              1025 non-null   object        \n",
      " 4   Last Name_x       1026 non-null   object        \n",
      " 5   Guesses           1026 non-null   float64       \n",
      " 6   Simple Text       1025 non-null   object        \n",
      " 7   District          1026 non-null   object        \n",
      " 8   Member            1026 non-null   object        \n",
      " 9   Party             1026 non-null   object        \n",
      " 10  Prior experience  1026 non-null   object        \n",
      " 11  Education         1026 non-null   object        \n",
      " 12  Assumed office    1026 non-null   object        \n",
      " 13  Residence         1026 non-null   object        \n",
      " 14  Born              1026 non-null   float64       \n",
      " 15  Last Name_y       1026 non-null   object        \n",
      " 16  State             1026 non-null   object        \n",
      " 17  Text Length       1026 non-null   int64         \n",
      "dtypes: datetime64[ns](1), float64(2), int64(1), object(14)\n",
      "memory usage: 152.3+ KB\n"
     ]
    }
   ],
   "source": [
    "merged.info()"
   ]
  },
  {
   "cell_type": "code",
   "execution_count": 24,
   "metadata": {
    "tags": []
   },
   "outputs": [
    {
     "data": {
      "image/png": "[encoded data removed]",
      "text/plain": [
       "<Figure size 432x288 with 1 Axes>"
      ]
     },
     "metadata": {
      "needs_background": "light"
     },
     "output_type": "display_data"
    }
   ],
   "source": [
    "merged['Simple assumed'] = merged['Assumed office'].apply( lambda x: str(x)[:4] ).astype( int )\n",
    "data = merged.groupby( 'Member' )[['Simple assumed','Text Length']].agg({'Simple assumed':'first','Text Length':'sum'})\n",
    "plt.scatter( x=data['Simple assumed'], y=data['Text Length'], alpha=0.3 )\n",
    "plt.yscale( 'log' )\n",
    "plt.show()"
   ]
  },
  {
   "cell_type": "code",
   "execution_count": 25,
   "metadata": {
    "tags": []
   },
   "outputs": [
    {
     "data": {
      "image/png": "[encoded data removed]",
      "text/plain": [
       "<Figure size 432x288 with 1 Axes>"
      ]
     },
     "metadata": {
      "needs_background": "light"
     },
     "output_type": "display_data"
    }
   ],
   "source": [
    "data = merged.groupby( 'Member' )[['Simple assumed','Text Length']].agg({'Simple assumed':'first','Text Length':'mean'})\n",
    "plt.scatter( x=data['Simple assumed'], y=data['Text Length'], alpha=0.3 )\n",
    "plt.yscale( 'log' )\n",
    "plt.show()"
   ]
  },
  {
   "cell_type": "markdown",
   "metadata": {
    "tags": []
   },
   "source": [
    "## Get time from speech?\n",
    "\n",
    "Turns out you can't seem to do this.  I tried here but found only 36 of the thousands of texts had any detectable times."
   ]
  },
  {
   "cell_type": "code",
   "execution_count": 26,
   "metadata": {
    "tags": []
   },
   "outputs": [
    {
     "data": {
      "text/plain": [
       "60.0     34\n",
       "300.0     2\n",
       "Name: Simple Text, dtype: int64"
      ]
     },
     "execution_count": 26,
     "metadata": {},
     "output_type": "execute_result"
    }
   ],
   "source": [
    "def get_time_in_seconds ( important_words ):\n",
    "    if type( important_words ) != str:\n",
    "        return None\n",
    "    important_words = important_words.split( ' ' )\n",
    "    if 'minute' in important_words:\n",
    "        minute_index = len( important_words ) - 1 - important_words[::-1].index( 'minute' )\n",
    "    else:\n",
    "        minute_index = None\n",
    "    if 'second' in important_words:\n",
    "        second_index = len( important_words ) - 1 - important_words[::-1].index( 'second' )\n",
    "    else:\n",
    "        second_index = None\n",
    "    if minute_index is None and second_index is None:\n",
    "        return None\n",
    "    if minute_index is None:\n",
    "        index = second_index\n",
    "    elif second_index is None:\n",
    "        index = minute_index\n",
    "    else:\n",
    "        index = max( minute_index, second_index )\n",
    "    if index == 0:\n",
    "        return None\n",
    "    unit = important_words[index]\n",
    "    seconds = 60 if unit == 'minute' else 1\n",
    "    quantity = important_words[index-1]\n",
    "    conversion = { 'one' : 1, 'five' : 5, 'two' : 2, 'three' : 3, '30' : 30, 'four' : 4, '20' : 20,\n",
    "                   '50' : 50, '90' : 90, '15' : 15, '45' : 45, 'a' : 1 }\n",
    "    min_reasonable = 15  # nobody got <30sec to talk (\"one second\" == figure of speech)\n",
    "    max_reasonable = 300 # nobody got >5min to talk (\"30 minutes\" == time of a recess)\n",
    "    if quantity in conversion:\n",
    "        result = conversion[quantity] * seconds\n",
    "        if min_reasonable <= result <= max_reasonable:\n",
    "            return result\n",
    "    return None\n",
    "merged['Simple Text'].apply( get_time_in_seconds ).value_counts()"
   ]
  },
  {
   "cell_type": "markdown",
   "metadata": {
    "tags": []
   },
   "source": [
    "What if we try with the original text?  Seems better...you get 106 now.  Still only 10% of speeches."
   ]
  },
  {
   "cell_type": "code",
   "execution_count": 27,
   "metadata": {
    "tags": []
   },
   "outputs": [
    {
     "data": {
      "text/plain": [
       "60.0     36\n",
       "120.0    22\n",
       "300.0    19\n",
       "180.0    19\n",
       "240.0     4\n",
       "30.0      4\n",
       "20.0      1\n",
       "90.0      1\n",
       "Name: Text, dtype: int64"
      ]
     },
     "execution_count": 27,
     "metadata": {},
     "output_type": "execute_result"
    }
   ],
   "source": [
    "def get_time_in_seconds2 ( all_words ):\n",
    "    if type( all_words ) != str:\n",
    "        return None\n",
    "    for char in string.punctuation:\n",
    "        all_words = all_words.replace( char, ' ' )\n",
    "    all_words = all_words.replace( 'MINUTES', 'MINUTE' )\n",
    "    all_words = all_words.replace( 'SECONDS', 'SECOND' )\n",
    "    all_words = all_words.lower().split( ' ' )\n",
    "    if 'minute' in all_words:\n",
    "        minute_index = len( all_words ) - 1 - all_words[::-1].index( 'minute' )\n",
    "    else:\n",
    "        minute_index = None\n",
    "    if 'second' in all_words:\n",
    "        second_index = len( all_words ) - 1 - all_words[::-1].index( 'second' )\n",
    "    else:\n",
    "        second_index = None\n",
    "    if minute_index is None and second_index is None:\n",
    "        return None\n",
    "    if minute_index is None:\n",
    "        index = second_index\n",
    "    elif second_index is None:\n",
    "        index = minute_index\n",
    "    else:\n",
    "        index = max( minute_index, second_index )\n",
    "    if index == 0:\n",
    "        return None\n",
    "    unit = all_words[index]\n",
    "    seconds = 60 if unit == 'minute' else 1\n",
    "    quantity = all_words[index-1]\n",
    "    conversion = { 'one' : 1, 'five' : 5, 'two' : 2, 'three' : 3, '30' : 30, 'four' : 4, '20' : 20,\n",
    "                   '50' : 50, '90' : 90, '15' : 15, '45' : 45, 'a' : 1 }\n",
    "    min_reasonable = 15  # nobody got <30sec to talk (\"one second\" == figure of speech)\n",
    "    max_reasonable = 300 # nobody got >5min to talk (\"30 minutes\" == time of a recess)\n",
    "    if quantity in conversion:\n",
    "        result = conversion[quantity] * seconds\n",
    "        if min_reasonable <= result <= max_reasonable:\n",
    "            return result\n",
    "    return None\n",
    "merged['Text'].apply( get_time_in_seconds2 ).value_counts()"
   ]
  },
  {
   "cell_type": "code",
   "execution_count": null,
   "metadata": {
    "tags": []
   },
   "outputs": [],
   "source": []
  }
 ],
 "metadata": {
  "kernelspec": {
   "display_name": "Python 3",
   "language": "python",
   "name": "python3"
  },
  "language_info": {
   "codemirror_mode": {
    "name": "ipython",
    "version": 3
   },
   "file_extension": ".py",
   "mimetype": "text/x-python",
   "name": "python",
   "nbconvert_exporter": "python",
   "pygments_lexer": "ipython3",
   "version": "3.7.3"
  }
 },
 "nbformat": 4,
 "nbformat_minor": 4
}
